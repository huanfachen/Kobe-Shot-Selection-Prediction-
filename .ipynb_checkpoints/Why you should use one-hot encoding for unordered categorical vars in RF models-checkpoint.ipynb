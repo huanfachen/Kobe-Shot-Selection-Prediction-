{
 "cells": [
  {
   "cell_type": "markdown",
   "metadata": {},
   "source": [
    "# Load packages\n",
    "\n",
    "## Note that fastai v0.7 is needed rather than fastai v1.0.\n",
    "### This link tells how to install fastai v0.7. https://forums.fast.ai/t/fastai-v0-7-install-issues-thread/24652"
   ]
  },
  {
   "cell_type": "code",
   "execution_count": 1,
   "metadata": {},
   "outputs": [],
   "source": [
    "from fastai.imports import *\n",
    "from fastai.structured import *\n",
    "from pandas_summary import DataFrameSummary\n",
    "from sklearn.ensemble import RandomForestRegressor, RandomForestClassifier\n",
    "from IPython.display import display\n",
    "from sklearn import metrics\n",
    "import os\n",
    "import pandas as pd\n",
    "import numpy as np"
   ]
  },
  {
   "cell_type": "markdown",
   "metadata": {},
   "source": [
    "## Read Data"
   ]
  },
  {
   "cell_type": "code",
   "execution_count": 2,
   "metadata": {},
   "outputs": [],
   "source": [
    "# os.chdir(\"/home/rk9cx/Kaggle/Kobe Shot Selection/\")\n",
    "df = pd.read_csv(\"data.csv\", index_col = False, low_memory=False, parse_dates=[\"game_date\"])\n",
    "test = df[df['shot_made_flag'].isna()]\n",
    "train = df[~df['shot_made_flag'].isna()]"
   ]
  },
  {
   "cell_type": "code",
   "execution_count": 22,
   "metadata": {},
   "outputs": [
    {
     "data": {
      "text/plain": [
       "action_type                   object\n",
       "combined_shot_type            object\n",
       "game_event_id                  int64\n",
       "game_id                        int64\n",
       "lat                          float64\n",
       "loc_x                          int64\n",
       "loc_y                          int64\n",
       "lon                          float64\n",
       "minutes_remaining              int64\n",
       "period                         int64\n",
       "playoffs                       int64\n",
       "season                        object\n",
       "seconds_remaining              int64\n",
       "shot_distance                  int64\n",
       "shot_made_flag               float64\n",
       "shot_type                     object\n",
       "shot_zone_area                object\n",
       "shot_zone_basic               object\n",
       "shot_zone_range               object\n",
       "team_id                        int64\n",
       "team_name                     object\n",
       "game_date             datetime64[ns]\n",
       "matchup                       object\n",
       "opponent                      object\n",
       "shot_id                        int64\n",
       "dtype: object"
      ]
     },
     "execution_count": 22,
     "metadata": {},
     "output_type": "execute_result"
    }
   ],
   "source": [
    "train.dtypes"
   ]
  },
  {
   "cell_type": "code",
   "execution_count": 30,
   "metadata": {},
   "outputs": [
    {
     "name": "stdout",
     "output_type": "stream",
     "text": [
      "25\n",
      "<bound method NDFrame.head of               action_type combined_shot_type  game_event_id   game_id  \\\n",
      "1               Jump Shot          Jump Shot             12  20000012   \n",
      "2               Jump Shot          Jump Shot             35  20000012   \n",
      "3               Jump Shot          Jump Shot             43  20000012   \n",
      "4       Driving Dunk Shot               Dunk            155  20000012   \n",
      "5               Jump Shot          Jump Shot            244  20000012   \n",
      "...                   ...                ...            ...       ...   \n",
      "30691  Driving Layup Shot              Layup            382  49900088   \n",
      "30692           Jump Shot          Jump Shot            397  49900088   \n",
      "30694   Running Jump Shot          Jump Shot            426  49900088   \n",
      "30695           Jump Shot          Jump Shot            448  49900088   \n",
      "30696           Jump Shot          Jump Shot            471  49900088   \n",
      "\n",
      "           lat  loc_x  loc_y       lon  minutes_remaining  period  ...  \\\n",
      "1      34.0443   -157      0 -118.4268                 10       1  ...   \n",
      "2      33.9093   -101    135 -118.3708                  7       1  ...   \n",
      "3      33.8693    138    175 -118.1318                  6       1  ...   \n",
      "4      34.0443      0      0 -118.2698                  6       2  ...   \n",
      "5      34.0553   -145    -11 -118.4148                  9       3  ...   \n",
      "...        ...    ...    ...       ...                ...     ...  ...   \n",
      "30691  34.0443      0      0 -118.2698                  7       4  ...   \n",
      "30692  33.9963      1     48 -118.2688                  6       4  ...   \n",
      "30694  33.8783   -134    166 -118.4038                  3       4  ...   \n",
      "30695  33.7773     31    267 -118.2388                  2       4  ...   \n",
      "30696  33.9723      1     72 -118.2688                  0       4  ...   \n",
      "\n",
      "            shot_type         shot_zone_area        shot_zone_basic  \\\n",
      "1      2PT Field Goal           Left Side(L)              Mid-Range   \n",
      "2      2PT Field Goal   Left Side Center(LC)              Mid-Range   \n",
      "3      2PT Field Goal  Right Side Center(RC)              Mid-Range   \n",
      "4      2PT Field Goal              Center(C)        Restricted Area   \n",
      "5      2PT Field Goal           Left Side(L)              Mid-Range   \n",
      "...               ...                    ...                    ...   \n",
      "30691  2PT Field Goal              Center(C)        Restricted Area   \n",
      "30692  2PT Field Goal              Center(C)  In The Paint (Non-RA)   \n",
      "30694  2PT Field Goal   Left Side Center(LC)              Mid-Range   \n",
      "30695  3PT Field Goal              Center(C)      Above the Break 3   \n",
      "30696  2PT Field Goal              Center(C)  In The Paint (Non-RA)   \n",
      "\n",
      "       shot_zone_range     team_id           team_name  game_date  \\\n",
      "1             8-16 ft.  1610612747  Los Angeles Lakers 2000-10-31   \n",
      "2            16-24 ft.  1610612747  Los Angeles Lakers 2000-10-31   \n",
      "3            16-24 ft.  1610612747  Los Angeles Lakers 2000-10-31   \n",
      "4      Less Than 8 ft.  1610612747  Los Angeles Lakers 2000-10-31   \n",
      "5             8-16 ft.  1610612747  Los Angeles Lakers 2000-10-31   \n",
      "...                ...         ...                 ...        ...   \n",
      "30691  Less Than 8 ft.  1610612747  Los Angeles Lakers 2000-06-19   \n",
      "30692  Less Than 8 ft.  1610612747  Los Angeles Lakers 2000-06-19   \n",
      "30694        16-24 ft.  1610612747  Los Angeles Lakers 2000-06-19   \n",
      "30695          24+ ft.  1610612747  Los Angeles Lakers 2000-06-19   \n",
      "30696  Less Than 8 ft.  1610612747  Los Angeles Lakers 2000-06-19   \n",
      "\n",
      "           matchup opponent  shot_id  \n",
      "1        LAL @ POR      POR        2  \n",
      "2        LAL @ POR      POR        3  \n",
      "3        LAL @ POR      POR        4  \n",
      "4        LAL @ POR      POR        5  \n",
      "5        LAL @ POR      POR        6  \n",
      "...            ...      ...      ...  \n",
      "30691  LAL vs. IND      IND    30692  \n",
      "30692  LAL vs. IND      IND    30693  \n",
      "30694  LAL vs. IND      IND    30695  \n",
      "30695  LAL vs. IND      IND    30696  \n",
      "30696  LAL vs. IND      IND    30697  \n",
      "\n",
      "[25697 rows x 25 columns]>\n"
     ]
    }
   ],
   "source": [
    "# how many features in the dataset. 25\n",
    "print(train.columns.size)"
   ]
  },
  {
   "cell_type": "markdown",
   "metadata": {},
   "source": [
    "## Preprocessing"
   ]
  },
  {
   "cell_type": "code",
   "execution_count": 3,
   "metadata": {},
   "outputs": [
    {
     "name": "stderr",
     "output_type": "stream",
     "text": [
      "C:\\Users\\HuanfaChen\\Anaconda3\\envs\\fastai07_cpu\\lib\\site-packages\\fastai\\structured.py:114: SettingWithCopyWarning: \n",
      "A value is trying to be set on a copy of a slice from a DataFrame.\n",
      "Try using .loc[row_indexer,col_indexer] = value instead\n",
      "\n",
      "See the caveats in the documentation: https://pandas.pydata.org/pandas-docs/stable/user_guide/indexing.html#returning-a-view-versus-a-copy\n",
      "  for n in attr: df[targ_pre + n] = getattr(fld.dt, n.lower())\n",
      "C:\\Users\\HuanfaChen\\Anaconda3\\envs\\fastai07_cpu\\lib\\site-packages\\fastai\\structured.py:115: SettingWithCopyWarning: \n",
      "A value is trying to be set on a copy of a slice from a DataFrame.\n",
      "Try using .loc[row_indexer,col_indexer] = value instead\n",
      "\n",
      "See the caveats in the documentation: https://pandas.pydata.org/pandas-docs/stable/user_guide/indexing.html#returning-a-view-versus-a-copy\n",
      "  df[targ_pre + 'Elapsed'] = fld.astype(np.int64) // 10 ** 9\n",
      "C:\\Users\\HuanfaChen\\Anaconda3\\envs\\fastai07_cpu\\lib\\site-packages\\pandas\\core\\frame.py:3997: SettingWithCopyWarning: \n",
      "A value is trying to be set on a copy of a slice from a DataFrame\n",
      "\n",
      "See the caveats in the documentation: https://pandas.pydata.org/pandas-docs/stable/user_guide/indexing.html#returning-a-view-versus-a-copy\n",
      "  errors=errors,\n"
     ]
    }
   ],
   "source": [
    "#converting date into different features\n",
    "# add_datepart: add_datepart converts a column of df from a datetime64 to 13 columns containing \n",
    "# the information from the date. This applies changes inplace.\n",
    "# new columns include: Year Month Week Day Dayofweek Dayofyear Is_month_end Is_month_start Is_quarter_end Is_quarter_start Is_year_end Is_year_start Elapsed\n",
    "add_datepart(train, 'game_date')\n",
    "add_datepart(test, 'game_date')"
   ]
  },
  {
   "cell_type": "markdown",
   "metadata": {},
   "source": [
    "# Approach 1: using label encoding"
   ]
  },
  {
   "cell_type": "code",
   "execution_count": 4,
   "metadata": {},
   "outputs": [
    {
     "name": "stderr",
     "output_type": "stream",
     "text": [
      "C:\\Users\\HuanfaChen\\Anaconda3\\envs\\fastai07_cpu\\lib\\site-packages\\fastai\\structured.py:152: SettingWithCopyWarning: \n",
      "A value is trying to be set on a copy of a slice from a DataFrame.\n",
      "Try using .loc[row_indexer,col_indexer] = value instead\n",
      "\n",
      "See the caveats in the documentation: https://pandas.pydata.org/pandas-docs/stable/user_guide/indexing.html#returning-a-view-versus-a-copy\n",
      "  if is_string_dtype(c): df[n] = c.astype('category').cat.as_ordered()\n",
      "C:\\Users\\HuanfaChen\\Anaconda3\\envs\\fastai07_cpu\\lib\\site-packages\\fastai\\structured.py:200: SettingWithCopyWarning: \n",
      "A value is trying to be set on a copy of a slice from a DataFrame.\n",
      "Try using .loc[row_indexer,col_indexer] = value instead\n",
      "\n",
      "See the caveats in the documentation: https://pandas.pydata.org/pandas-docs/stable/user_guide/indexing.html#returning-a-view-versus-a-copy\n",
      "  df[n] = pd.Categorical(c, categories=trn[n].cat.categories, ordered=True)\n"
     ]
    }
   ],
   "source": [
    "#converting categorical variables into label coding\n",
    "train_cats(train)\n",
    "apply_cats(test, train)"
   ]
  },
  {
   "cell_type": "code",
   "execution_count": 5,
   "metadata": {},
   "outputs": [],
   "source": [
    "#test.drop([\"shot_made_flag\"], axis = 1, inplace= True)\n",
    "# proc_df: takes a data frame df and splits off the response variable, and\n",
    "# changes the df into an entirely numeric dataframe.\n",
    "df_test, y_test, nas = proc_df(test, y_fld='shot_made_flag')"
   ]
  },
  {
   "cell_type": "code",
   "execution_count": 6,
   "metadata": {},
   "outputs": [],
   "source": [
    "#imputing missing values with median\n",
    "df, y, nas = proc_df(train, 'shot_made_flag')"
   ]
  },
  {
   "cell_type": "code",
   "execution_count": 7,
   "metadata": {},
   "outputs": [],
   "source": [
    "#function for train-test split\n",
    "def split_vals(a,n): \n",
    "    return a[:n].copy(), a[n:].copy()\n",
    "\n",
    "n_valid = 5000  # same as Kaggle's test set size\n",
    "n_trn = len(df)-n_valid\n",
    "raw_train, raw_valid = split_vals(train, n_trn)\n",
    "X_train, X_valid = split_vals(df, n_trn)\n",
    "y_train, y_valid = split_vals(y, n_trn)"
   ]
  },
  {
   "cell_type": "markdown",
   "metadata": {},
   "source": [
    "## Modelling - Basic Random Forest"
   ]
  },
  {
   "cell_type": "code",
   "execution_count": 29,
   "metadata": {},
   "outputs": [
    {
     "name": "stdout",
     "output_type": "stream",
     "text": [
      "36\n"
     ]
    },
    {
     "data": {
      "text/plain": [
       "action_type                 int8\n",
       "combined_shot_type          int8\n",
       "game_event_id              int64\n",
       "game_id                    int64\n",
       "lat                      float64\n",
       "loc_x                      int64\n",
       "loc_y                      int64\n",
       "lon                      float64\n",
       "minutes_remaining          int64\n",
       "period                     int64\n",
       "playoffs                   int64\n",
       "season                      int8\n",
       "seconds_remaining          int64\n",
       "shot_distance              int64\n",
       "shot_type                   int8\n",
       "shot_zone_area              int8\n",
       "shot_zone_basic             int8\n",
       "shot_zone_range             int8\n",
       "team_id                    int64\n",
       "team_name                   int8\n",
       "matchup                     int8\n",
       "opponent                    int8\n",
       "shot_id                    int64\n",
       "game_Year                  int64\n",
       "game_Month                 int64\n",
       "game_Week                  int64\n",
       "game_Day                   int64\n",
       "game_Dayofweek             int64\n",
       "game_Dayofyear             int64\n",
       "game_Is_month_end           bool\n",
       "game_Is_month_start         bool\n",
       "game_Is_quarter_end         bool\n",
       "game_Is_quarter_start       bool\n",
       "game_Is_year_end            bool\n",
       "game_Is_year_start          bool\n",
       "game_Elapsed               int64\n",
       "dtype: object"
      ]
     },
     "execution_count": 29,
     "metadata": {},
     "output_type": "execute_result"
    }
   ],
   "source": [
    "# how many columns in X_train\n",
    "print(X_train.columns.size)\n",
    "# inspect the X_train and y_train\n",
    "X_train.dtypes"
   ]
  },
  {
   "cell_type": "code",
   "execution_count": 8,
   "metadata": {},
   "outputs": [
    {
     "name": "stderr",
     "output_type": "stream",
     "text": [
      "C:\\Users\\HuanfaChen\\Anaconda3\\envs\\fastai07_cpu\\lib\\site-packages\\sklearn\\ensemble\\forest.py:248: FutureWarning: The default value of n_estimators will change from 10 in version 0.20 to 100 in 0.22.\n",
      "  \"10 in version 0.20 to 100 in 0.22.\", FutureWarning)\n"
     ]
    },
    {
     "data": {
      "text/plain": [
       "0.8672047189463101"
      ]
     },
     "execution_count": 8,
     "metadata": {},
     "output_type": "execute_result"
    }
   ],
   "source": [
    "#cross validation\n",
    "m = RandomForestClassifier(n_jobs=-1)\n",
    "m.fit(X_train, y_train)\n",
    "metrics.log_loss(y_valid,m.predict_proba(X_valid))"
   ]
  },
  {
   "cell_type": "markdown",
   "metadata": {},
   "source": [
    "# Approach 2: One-hot Encoding"
   ]
  },
  {
   "cell_type": "markdown",
   "metadata": {},
   "source": [
    "## Read Data"
   ]
  },
  {
   "cell_type": "code",
   "execution_count": 9,
   "metadata": {},
   "outputs": [],
   "source": [
    "# os.chdir(\"/home/rk9cx/Kaggle/Kobe Shot Selection/\")\n",
    "df = pd.read_csv(\"data.csv\", index_col = False, low_memory=False, parse_dates=[\"game_date\"])\n",
    "test = df[df['shot_made_flag'].isna()]\n",
    "train = df[~df['shot_made_flag'].isna()]"
   ]
  },
  {
   "cell_type": "markdown",
   "metadata": {},
   "source": [
    "## One-hot Encoding and Preprocessing"
   ]
  },
  {
   "cell_type": "code",
   "execution_count": 10,
   "metadata": {},
   "outputs": [],
   "source": [
    "def make_onehot_feat_dict(df, feat_key, feat_name):\n",
    "    # Create features for each day of the week\n",
    "    feat_vals = df[feat_key].values\n",
    "    all_vals = np.unique(feat_vals)\n",
    "    N_vals = len(all_vals)\n",
    "    N_feat = N_vals - 1\n",
    "\n",
    "    # Create keys\n",
    "    keys = [0]*N_feat\n",
    "    for i in range(N_feat):\n",
    "        keys[i] = 'f_'+feat_name+'_'+ str(all_vals[i])\n",
    "\n",
    "    # Create value for each training example in dict\n",
    "    feat_dict = {}\n",
    "    for i, k in enumerate(keys):\n",
    "        this_day = all_vals[i]\n",
    "        feat_dict[k] = feat_vals == this_day\n",
    "    return feat_dict\n",
    "#converting top 2 categorical variable to one-hot encoding\n",
    "action_type_dict = make_onehot_feat_dict(df, \n",
    "                                      'action_type', 'action_type')\n",
    "combined_shot_type_dict = make_onehot_feat_dict(df, \n",
    "                                      'combined_shot_type', 'combined_shot_type')"
   ]
  },
  {
   "cell_type": "code",
   "execution_count": 11,
   "metadata": {},
   "outputs": [],
   "source": [
    "#convert one-hot to dictionary\n",
    "all_dicts = [action_type_dict, combined_shot_type_dict]\n",
    "feat_dict = all_dicts[0].copy()\n",
    "for d in all_dicts[1:]:\n",
    "    feat_dict.update(d)"
   ]
  },
  {
   "cell_type": "code",
   "execution_count": 12,
   "metadata": {},
   "outputs": [],
   "source": [
    "#subset dataframe to eliminate categorical variables\n",
    "df_new = df.drop([\"action_type\",\"combined_shot_type\"], axis = 1)"
   ]
  },
  {
   "cell_type": "code",
   "execution_count": 13,
   "metadata": {},
   "outputs": [
    {
     "data": {
      "text/plain": [
       "(30697, 84)"
      ]
     },
     "execution_count": 13,
     "metadata": {},
     "output_type": "execute_result"
    }
   ],
   "source": [
    "#modify dataframe to accomodate the on-hot encoded features\n",
    "df_feat = pd.DataFrame.from_dict(feat_dict)\n",
    "df_feat = pd.concat([df_feat, df_new], axis=1)\n",
    "df_feat.shape"
   ]
  },
  {
   "cell_type": "code",
   "execution_count": 14,
   "metadata": {},
   "outputs": [],
   "source": [
    "test_new = df[df['shot_made_flag'].isna()]\n",
    "train_new = df[~df['shot_made_flag'].isna()]"
   ]
  },
  {
   "cell_type": "code",
   "execution_count": 15,
   "metadata": {},
   "outputs": [
    {
     "name": "stderr",
     "output_type": "stream",
     "text": [
      "C:\\Users\\HuanfaChen\\Anaconda3\\envs\\fastai07_cpu\\lib\\site-packages\\fastai\\structured.py:114: SettingWithCopyWarning: \n",
      "A value is trying to be set on a copy of a slice from a DataFrame.\n",
      "Try using .loc[row_indexer,col_indexer] = value instead\n",
      "\n",
      "See the caveats in the documentation: https://pandas.pydata.org/pandas-docs/stable/user_guide/indexing.html#returning-a-view-versus-a-copy\n",
      "  for n in attr: df[targ_pre + n] = getattr(fld.dt, n.lower())\n",
      "C:\\Users\\HuanfaChen\\Anaconda3\\envs\\fastai07_cpu\\lib\\site-packages\\fastai\\structured.py:115: SettingWithCopyWarning: \n",
      "A value is trying to be set on a copy of a slice from a DataFrame.\n",
      "Try using .loc[row_indexer,col_indexer] = value instead\n",
      "\n",
      "See the caveats in the documentation: https://pandas.pydata.org/pandas-docs/stable/user_guide/indexing.html#returning-a-view-versus-a-copy\n",
      "  df[targ_pre + 'Elapsed'] = fld.astype(np.int64) // 10 ** 9\n",
      "C:\\Users\\HuanfaChen\\Anaconda3\\envs\\fastai07_cpu\\lib\\site-packages\\pandas\\core\\frame.py:3997: SettingWithCopyWarning: \n",
      "A value is trying to be set on a copy of a slice from a DataFrame\n",
      "\n",
      "See the caveats in the documentation: https://pandas.pydata.org/pandas-docs/stable/user_guide/indexing.html#returning-a-view-versus-a-copy\n",
      "  errors=errors,\n"
     ]
    }
   ],
   "source": [
    "#converting date into different fatures\n",
    "add_datepart(train_new, 'game_date')\n",
    "add_datepart(test_new, 'game_date')"
   ]
  },
  {
   "cell_type": "code",
   "execution_count": 16,
   "metadata": {},
   "outputs": [
    {
     "name": "stderr",
     "output_type": "stream",
     "text": [
      "C:\\Users\\HuanfaChen\\Anaconda3\\envs\\fastai07_cpu\\lib\\site-packages\\fastai\\structured.py:152: SettingWithCopyWarning: \n",
      "A value is trying to be set on a copy of a slice from a DataFrame.\n",
      "Try using .loc[row_indexer,col_indexer] = value instead\n",
      "\n",
      "See the caveats in the documentation: https://pandas.pydata.org/pandas-docs/stable/user_guide/indexing.html#returning-a-view-versus-a-copy\n",
      "  if is_string_dtype(c): df[n] = c.astype('category').cat.as_ordered()\n",
      "C:\\Users\\HuanfaChen\\Anaconda3\\envs\\fastai07_cpu\\lib\\site-packages\\fastai\\structured.py:200: SettingWithCopyWarning: \n",
      "A value is trying to be set on a copy of a slice from a DataFrame.\n",
      "Try using .loc[row_indexer,col_indexer] = value instead\n",
      "\n",
      "See the caveats in the documentation: https://pandas.pydata.org/pandas-docs/stable/user_guide/indexing.html#returning-a-view-versus-a-copy\n",
      "  df[n] = pd.Categorical(c, categories=trn[n].cat.categories, ordered=True)\n"
     ]
    }
   ],
   "source": [
    "#converting categorical variables into label coding\n",
    "train_cats(train_new)\n",
    "apply_cats(test_new, train_new)"
   ]
  },
  {
   "cell_type": "code",
   "execution_count": 17,
   "metadata": {},
   "outputs": [],
   "source": [
    "#imputing missing values with median\n",
    "df_test, y_test, nas = proc_df(test_new, 'shot_made_flag')\n",
    "df, y, nas = proc_df(train_new, 'shot_made_flag')"
   ]
  },
  {
   "cell_type": "markdown",
   "metadata": {},
   "source": [
    "## Splitting Data for Cross Validation"
   ]
  },
  {
   "cell_type": "code",
   "execution_count": 18,
   "metadata": {},
   "outputs": [],
   "source": [
    "#function for train-test split\n",
    "def split_vals(a,n): \n",
    "    return a[:n].copy(), a[n:].copy()\n",
    "\n",
    "n_valid = 5000  # same as Kaggle's test set size\n",
    "n_trn = len(df)-n_valid\n",
    "raw_train, raw_valid = split_vals(train, n_trn)\n",
    "X_train, X_valid = split_vals(df, n_trn)\n",
    "y_train, y_valid = split_vals(y, n_trn)"
   ]
  },
  {
   "cell_type": "code",
   "execution_count": 19,
   "metadata": {},
   "outputs": [
    {
     "name": "stderr",
     "output_type": "stream",
     "text": [
      "C:\\Users\\HuanfaChen\\Anaconda3\\envs\\fastai07_cpu\\lib\\site-packages\\sklearn\\ensemble\\forest.py:248: FutureWarning: The default value of n_estimators will change from 10 in version 0.20 to 100 in 0.22.\n",
      "  \"10 in version 0.20 to 100 in 0.22.\", FutureWarning)\n"
     ]
    },
    {
     "data": {
      "text/plain": [
       "0.7685790546897757"
      ]
     },
     "execution_count": 19,
     "metadata": {},
     "output_type": "execute_result"
    }
   ],
   "source": [
    "#cross validation\n",
    "m = RandomForestClassifier(n_jobs=-1)\n",
    "m.fit(X_train, y_train)\n",
    "metrics.log_loss(y_valid,m.predict_proba(X_valid))"
   ]
  }
 ],
 "metadata": {
  "kernelspec": {
   "display_name": "Python [conda env:fastai07_cpu]",
   "language": "python",
   "name": "conda-env-fastai07_cpu-py"
  },
  "language_info": {
   "codemirror_mode": {
    "name": "ipython",
    "version": 3
   },
   "file_extension": ".py",
   "mimetype": "text/x-python",
   "name": "python",
   "nbconvert_exporter": "python",
   "pygments_lexer": "ipython3",
   "version": "3.6.10"
  }
 },
 "nbformat": 4,
 "nbformat_minor": 2
}
