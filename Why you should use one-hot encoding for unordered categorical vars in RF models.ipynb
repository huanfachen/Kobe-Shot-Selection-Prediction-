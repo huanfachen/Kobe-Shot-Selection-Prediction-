{
 "cells": [
  {
   "cell_type": "markdown",
   "metadata": {},
   "source": [
    "In this notebook, I try to respond to this question: do we need to use one-hot encoding in the random forest model? The answer is **YES**.\n",
    "\n",
    "There is [another post](https://towardsdatascience.com/one-hot-encoding-is-making-your-tree-based-ensembles-worse-heres-why-d64b282b5769) on this topic, which claims that one-hot encoding is making the tree-based ensembles (including random forest) worse for two main reasons. First, one-hot encoding a categorical variable will induce sparsity into the dataset which is undesirable. Second, the dummy variable resulting from one-hot encoding will be given less importance than should be, which will obsecure the order of feature importance.\n",
    "\n",
    "However, the first reason is not important as we don't care much about the 'sparsity' in the random forest model, as 'sparsity' is not related to the model performance. The second reason is even wrong as it is based on the biased and problematic feature importance calculation from the sklearn package. Rather, the **rfpimp** pckage provides a better feature importance method that is based on permutation of feature values, and it is able to estimate the importance of a group of variables.\n",
    "\n",
    "In the following parts, I will use Kobe's shot selection data to build a model to predict whether a shot given the circumstances would land in or not. This aims to demonstrate the differenceo of label encoding and one-hot encoding. According to some analysis, it is clear that the two variables describing the type of shot were the most important in predicting the outcome of a given shot and both variables (**'action_type'** and **'combined_shot_type'**) were categorical.\n",
    "\n",
    "I will run random forest on the dataset with label encoding (using different orders) and with one-hot encoding. This will answer the following questions:\n",
    "\n",
    "- Is there difference between label encoding and one-hot encoding in this classification task?\n",
    "- In label encoding, does the category order of the categorical variable matter for the classification task?"
   ]
  },
  {
   "cell_type": "markdown",
   "metadata": {},
   "source": [
    "## Load packages\n",
    "\n",
    "Note that fastai v0.7 is needed rather than fastai v1.0. [This link](https://forums.fast.ai/t/fastai-v0-7-install-issues-thread/24652) tells you how to install fastai v0.7. "
   ]
  },
  {
   "cell_type": "code",
   "execution_count": 157,
   "metadata": {},
   "outputs": [],
   "source": [
    "from fastai.imports import *\n",
    "from fastai.structured import *\n",
    "from pandas_summary import DataFrameSummary\n",
    "from sklearn.ensemble import RandomForestRegressor, RandomForestClassifier\n",
    "from IPython.display import display\n",
    "from sklearn import metrics\n",
    "import os\n",
    "import pandas as pd\n",
    "import numpy as np"
   ]
  },
  {
   "cell_type": "markdown",
   "metadata": {},
   "source": [
    "# Part 1: label encoding"
   ]
  },
  {
   "cell_type": "markdown",
   "metadata": {},
   "source": [
    "## Read Data"
   ]
  },
  {
   "cell_type": "code",
   "execution_count": 158,
   "metadata": {},
   "outputs": [],
   "source": [
    "# os.chdir(\"/home/rk9cx/Kaggle/Kobe Shot Selection/\")\n",
    "df = pd.read_csv(\"data.csv\", index_col = False, low_memory=False, parse_dates=[\"game_date\"])\n",
    "test = df[df['shot_made_flag'].isna()]\n",
    "train = df[~df['shot_made_flag'].isna()]"
   ]
  },
  {
   "cell_type": "code",
   "execution_count": 159,
   "metadata": {},
   "outputs": [
    {
     "name": "stdout",
     "output_type": "stream",
     "text": [
      "Number of rows: 25697\n",
      "Number of features: 25\n"
     ]
    }
   ],
   "source": [
    "print(\"Number of rows:\", train.shape[0])\n",
    "print(\"Number of features:\", train.shape[1])"
   ]
  },
  {
   "cell_type": "code",
   "execution_count": 160,
   "metadata": {},
   "outputs": [
    {
     "data": {
      "text/plain": [
       "action_type                   object\n",
       "combined_shot_type            object\n",
       "game_event_id                  int64\n",
       "game_id                        int64\n",
       "lat                          float64\n",
       "loc_x                          int64\n",
       "loc_y                          int64\n",
       "lon                          float64\n",
       "minutes_remaining              int64\n",
       "period                         int64\n",
       "playoffs                       int64\n",
       "season                        object\n",
       "seconds_remaining              int64\n",
       "shot_distance                  int64\n",
       "shot_made_flag               float64\n",
       "shot_type                     object\n",
       "shot_zone_area                object\n",
       "shot_zone_basic               object\n",
       "shot_zone_range               object\n",
       "team_id                        int64\n",
       "team_name                     object\n",
       "game_date             datetime64[ns]\n",
       "matchup                       object\n",
       "opponent                      object\n",
       "shot_id                        int64\n",
       "dtype: object"
      ]
     },
     "execution_count": 160,
     "metadata": {},
     "output_type": "execute_result"
    }
   ],
   "source": [
    "train.dtypes"
   ]
  },
  {
   "cell_type": "markdown",
   "metadata": {},
   "source": [
    "## Preprocessing"
   ]
  },
  {
   "cell_type": "markdown",
   "metadata": {},
   "source": [
    "### Step 1: converting date into different features"
   ]
  },
  {
   "cell_type": "code",
   "execution_count": 161,
   "metadata": {},
   "outputs": [
    {
     "name": "stderr",
     "output_type": "stream",
     "text": [
      "C:\\Users\\HuanfaChen\\Anaconda3\\envs\\fastai07_cpu\\lib\\site-packages\\fastai\\structured.py:114: SettingWithCopyWarning: \n",
      "A value is trying to be set on a copy of a slice from a DataFrame.\n",
      "Try using .loc[row_indexer,col_indexer] = value instead\n",
      "\n",
      "See the caveats in the documentation: https://pandas.pydata.org/pandas-docs/stable/user_guide/indexing.html#returning-a-view-versus-a-copy\n",
      "  for n in attr: df[targ_pre + n] = getattr(fld.dt, n.lower())\n",
      "C:\\Users\\HuanfaChen\\Anaconda3\\envs\\fastai07_cpu\\lib\\site-packages\\fastai\\structured.py:115: SettingWithCopyWarning: \n",
      "A value is trying to be set on a copy of a slice from a DataFrame.\n",
      "Try using .loc[row_indexer,col_indexer] = value instead\n",
      "\n",
      "See the caveats in the documentation: https://pandas.pydata.org/pandas-docs/stable/user_guide/indexing.html#returning-a-view-versus-a-copy\n",
      "  df[targ_pre + 'Elapsed'] = fld.astype(np.int64) // 10 ** 9\n",
      "C:\\Users\\HuanfaChen\\Anaconda3\\envs\\fastai07_cpu\\lib\\site-packages\\pandas\\core\\frame.py:3997: SettingWithCopyWarning: \n",
      "A value is trying to be set on a copy of a slice from a DataFrame\n",
      "\n",
      "See the caveats in the documentation: https://pandas.pydata.org/pandas-docs/stable/user_guide/indexing.html#returning-a-view-versus-a-copy\n",
      "  errors=errors,\n"
     ]
    }
   ],
   "source": [
    "#converting date into different features\n",
    "# add_datepart: add_datepart converts a column of df from a datetime64 to 13 columns containing \n",
    "# the information from the date. This applies changes inplace.\n",
    "# new columns include: Year Month Week Day Dayofweek Dayofyear Is_month_end Is_month_start Is_quarter_end Is_quarter_start Is_year_end Is_year_start Elapsed\n",
    "add_datepart(train, 'game_date')\n",
    "add_datepart(test, 'game_date')"
   ]
  },
  {
   "attachments": {},
   "cell_type": "markdown",
   "metadata": {},
   "source": [
    "### Step 2: converting cateogrical variables using label encoding\n",
    "\n",
    "\n",
    "Pandas has a concept of a category data type, but by default it would not turn anything into a category. The **train_cats** function from fastai will convert any columns of strings in a dataframe to a column of 'Categorical'. This applies the changes inplace. By default this function uses the lexical order of the categories."
   ]
  },
  {
   "cell_type": "code",
   "execution_count": 162,
   "metadata": {},
   "outputs": [
    {
     "name": "stderr",
     "output_type": "stream",
     "text": [
      "C:\\Users\\HuanfaChen\\Anaconda3\\envs\\fastai07_cpu\\lib\\site-packages\\fastai\\structured.py:152: SettingWithCopyWarning: \n",
      "A value is trying to be set on a copy of a slice from a DataFrame.\n",
      "Try using .loc[row_indexer,col_indexer] = value instead\n",
      "\n",
      "See the caveats in the documentation: https://pandas.pydata.org/pandas-docs/stable/user_guide/indexing.html#returning-a-view-versus-a-copy\n",
      "  if is_string_dtype(c): df[n] = c.astype('category').cat.as_ordered()\n",
      "C:\\Users\\HuanfaChen\\Anaconda3\\envs\\fastai07_cpu\\lib\\site-packages\\fastai\\structured.py:200: SettingWithCopyWarning: \n",
      "A value is trying to be set on a copy of a slice from a DataFrame.\n",
      "Try using .loc[row_indexer,col_indexer] = value instead\n",
      "\n",
      "See the caveats in the documentation: https://pandas.pydata.org/pandas-docs/stable/user_guide/indexing.html#returning-a-view-versus-a-copy\n",
      "  df[n] = pd.Categorical(c, categories=trn[n].cat.categories, ordered=True)\n"
     ]
    }
   ],
   "source": [
    "#converting categorical variables using label coding\n",
    "train_cats(train)\n",
    "apply_cats(test, train)"
   ]
  },
  {
   "cell_type": "code",
   "execution_count": 164,
   "metadata": {},
   "outputs": [
    {
     "name": "stdout",
     "output_type": "stream",
     "text": [
      "Index(['Alley Oop Dunk Shot', 'Alley Oop Layup shot', 'Cutting Layup Shot',\n",
      "       'Driving Bank shot', 'Driving Dunk Shot',\n",
      "       'Driving Finger Roll Layup Shot', 'Driving Finger Roll Shot',\n",
      "       'Driving Floating Bank Jump Shot', 'Driving Floating Jump Shot',\n",
      "       'Driving Hook Shot', 'Driving Jump shot', 'Driving Layup Shot',\n",
      "       'Driving Reverse Layup Shot', 'Driving Slam Dunk Shot', 'Dunk Shot',\n",
      "       'Fadeaway Bank shot', 'Fadeaway Jump Shot', 'Finger Roll Layup Shot',\n",
      "       'Finger Roll Shot', 'Floating Jump shot', 'Follow Up Dunk Shot',\n",
      "       'Hook Bank Shot', 'Hook Shot', 'Jump Bank Shot', 'Jump Hook Shot',\n",
      "       'Jump Shot', 'Layup Shot', 'Pullup Bank shot', 'Pullup Jump shot',\n",
      "       'Putback Dunk Shot', 'Putback Layup Shot', 'Putback Slam Dunk Shot',\n",
      "       'Reverse Dunk Shot', 'Reverse Layup Shot', 'Reverse Slam Dunk Shot',\n",
      "       'Running Bank shot', 'Running Dunk Shot',\n",
      "       'Running Finger Roll Layup Shot', 'Running Finger Roll Shot',\n",
      "       'Running Hook Shot', 'Running Jump Shot', 'Running Layup Shot',\n",
      "       'Running Pull-Up Jump Shot', 'Running Reverse Layup Shot',\n",
      "       'Running Slam Dunk Shot', 'Running Tip Shot', 'Slam Dunk Shot',\n",
      "       'Step Back Jump shot', 'Tip Layup Shot', 'Tip Shot',\n",
      "       'Turnaround Bank shot', 'Turnaround Fadeaway shot',\n",
      "       'Turnaround Finger Roll Shot', 'Turnaround Hook Shot',\n",
      "       'Turnaround Jump Shot'],\n",
      "      dtype='object')\n"
     ]
    }
   ],
   "source": [
    "# check the oder in the action_type column\n",
    "print(train.action_type.cat.categories)"
   ]
  },
  {
   "cell_type": "markdown",
   "metadata": {},
   "source": [
    "### Step 3: split the dataframe into predictor and response variable and impute missing values"
   ]
  },
  {
   "cell_type": "code",
   "execution_count": 166,
   "metadata": {},
   "outputs": [],
   "source": [
    "# proc_df: takes a data frame df and splits off the response variable, and\n",
    "# changes the df into an entirely numeric dataframe (using label encoding). It also impute missing values with meadian\n",
    "\n",
    "# returned: \n",
    "# X: the transformed dataframe without the response variable.\n",
    "# y: the dataframe of the response variable\n",
    "# nas: returns a dictionary of which nas it created, and the associated median.\n",
    "df, y, nas = proc_df(train, y_fld='shot_made_flag')\n",
    "df_test, y_test, nas = proc_df(test, y_fld='shot_made_flag')"
   ]
  },
  {
   "cell_type": "code",
   "execution_count": 167,
   "metadata": {},
   "outputs": [],
   "source": [
    "# train-valid split using sklearn\n",
    "from sklearn.model_selection import train_test_split\n",
    "# test_size: If int, represents the absolute number of train samples\n",
    "X_train, X_valid, y_train, y_valid = train_test_split(df, y, test_size = 5000, random_state = 42)"
   ]
  },
  {
   "cell_type": "markdown",
   "metadata": {},
   "source": [
    "## Modelling using Random Forest"
   ]
  },
  {
   "cell_type": "code",
   "execution_count": 168,
   "metadata": {},
   "outputs": [
    {
     "name": "stdout",
     "output_type": "stream",
     "text": [
      "36\n"
     ]
    },
    {
     "data": {
      "text/plain": [
       "action_type                 int8\n",
       "combined_shot_type          int8\n",
       "game_event_id              int64\n",
       "game_id                    int64\n",
       "lat                      float64\n",
       "loc_x                      int64\n",
       "loc_y                      int64\n",
       "lon                      float64\n",
       "minutes_remaining          int64\n",
       "period                     int64\n",
       "playoffs                   int64\n",
       "season                      int8\n",
       "seconds_remaining          int64\n",
       "shot_distance              int64\n",
       "shot_type                   int8\n",
       "shot_zone_area              int8\n",
       "shot_zone_basic             int8\n",
       "shot_zone_range             int8\n",
       "team_id                    int64\n",
       "team_name                   int8\n",
       "matchup                     int8\n",
       "opponent                    int8\n",
       "shot_id                    int64\n",
       "game_Year                  int64\n",
       "game_Month                 int64\n",
       "game_Week                  int64\n",
       "game_Day                   int64\n",
       "game_Dayofweek             int64\n",
       "game_Dayofyear             int64\n",
       "game_Is_month_end           bool\n",
       "game_Is_month_start         bool\n",
       "game_Is_quarter_end         bool\n",
       "game_Is_quarter_start       bool\n",
       "game_Is_year_end            bool\n",
       "game_Is_year_start          bool\n",
       "game_Elapsed               int64\n",
       "dtype: object"
      ]
     },
     "execution_count": 168,
     "metadata": {},
     "output_type": "execute_result"
    }
   ],
   "source": [
    "# how many columns in X_train\n",
    "print(X_train.columns.size)\n",
    "# inspect the X_train and y_train\n",
    "X_train.dtypes"
   ]
  },
  {
   "cell_type": "code",
   "execution_count": 105,
   "metadata": {},
   "outputs": [
    {
     "name": "stdout",
     "output_type": "stream",
     "text": [
      "10-run RandomForest Classifier using cross-entropy\n",
      "Mean of log_loss 0.622414845504307\n",
      "Std_dev of log_loss 0.0013381796245117178\n"
     ]
    }
   ],
   "source": [
    "# Is the RandomForestClassifier stable on this dataset?\n",
    "# Run the RandomForestClassifier for ten times, and print the mean and standard deviation of log_loss\n",
    "# n_estimator = 100\n",
    "num_estimator = 100\n",
    "vec_log_loss = []\n",
    "for i in range(10):\n",
    "    m = RandomForestClassifier(n_jobs=-1, n_estimators=num_estimator)\n",
    "    m.fit(X_train, y_train)\n",
    "    # validation error\n",
    "    vec_log_loss.append(metrics.log_loss(y_valid,m.predict_proba(X_valid)))\n",
    "\n",
    "print(\"10-run RandomForest Classifier using cross-entropy\")\n",
    "print(\"Mean of log_loss\", np.mean(vec_log_loss))\n",
    "print(\"Std_dev of log_loss\", np.std(vec_log_loss))"
   ]
  },
  {
   "cell_type": "markdown",
   "metadata": {},
   "source": [
    "## Feature Importance: using permutation importance rathen than **gini importantce** from sklean"
   ]
  },
  {
   "cell_type": "code",
   "execution_count": 113,
   "metadata": {},
   "outputs": [
    {
     "name": "stdout",
     "output_type": "stream",
     "text": [
      "Variable: action_type          Importance: 0.09\n",
      "Variable: game_event_id        Importance: 0.06\n",
      "Variable: seconds_remaining    Importance: 0.06\n",
      "Variable: shot_id              Importance: 0.06\n",
      "Variable: lat                  Importance: 0.05\n",
      "Variable: loc_x                Importance: 0.05\n",
      "Variable: loc_y                Importance: 0.05\n",
      "Variable: lon                  Importance: 0.05\n",
      "Variable: matchup              Importance: 0.05\n",
      "Variable: game_Dayofyear       Importance: 0.05\n",
      "Variable: game_Elapsed         Importance: 0.05\n",
      "Variable: game_id              Importance: 0.04\n",
      "Variable: minutes_remaining    Importance: 0.04\n",
      "Variable: shot_distance        Importance: 0.04\n",
      "Variable: opponent             Importance: 0.04\n",
      "Variable: game_Day             Importance: 0.04\n",
      "Variable: combined_shot_type   Importance: 0.03\n",
      "Variable: game_Week            Importance: 0.03\n",
      "Variable: game_Dayofweek       Importance: 0.03\n",
      "Variable: period               Importance: 0.02\n",
      "Variable: season               Importance: 0.02\n",
      "Variable: game_Year            Importance: 0.02\n",
      "Variable: game_Month           Importance: 0.02\n",
      "Variable: shot_zone_area       Importance: 0.01\n",
      "Variable: shot_zone_basic      Importance: 0.01\n",
      "Variable: shot_zone_range      Importance: 0.01\n",
      "Variable: playoffs             Importance: 0.0\n",
      "Variable: shot_type            Importance: 0.0\n",
      "Variable: team_id              Importance: 0.0\n",
      "Variable: team_name            Importance: 0.0\n",
      "Variable: game_Is_month_end    Importance: 0.0\n",
      "Variable: game_Is_month_start  Importance: 0.0\n",
      "Variable: game_Is_quarter_end  Importance: 0.0\n",
      "Variable: game_Is_quarter_start Importance: 0.0\n",
      "Variable: game_Is_year_end     Importance: 0.0\n",
      "Variable: game_Is_year_start   Importance: 0.0\n"
     ]
    }
   ],
   "source": [
    "# using feature importance function from sklearn\n",
    "list_feature_imp = m.feature_importances_\n",
    "\n",
    "feature_list = list(X_train.columns)\n",
    "# List of tuples with variable and importance\n",
    "feature_importances = [(feature, round(importance, 2)) for feature, importance in zip(feature_list, list_feature_imp)]\n",
    "\n",
    "# Sort the feature importance by most important first\n",
    "feature_importances = sorted(feature_importances, key=lambda x:x[1], reverse=True)\n",
    "\n",
    "# Print out the feature and importances\n",
    "[print('Variable: {:20} Importance: {}'.format(*pair)) for pair in feature_importances];"
   ]
  },
  {
   "cell_type": "markdown",
   "metadata": {},
   "source": [
    "It is shown that the feature importance of **action_type** is 0.09, and that of **combined_shot_type** is 0.03.\n",
    "\n",
    "From the list above, the second most important feature is **game_event_id**, which describes **DDD**. This doesn't make sense. In fact, this is because the **game_event_id** has a larger cardinality (aka the number of unique values), thus having a larger probabiblity of being selected as the cutoff variable than combined_shot_type.\n",
    "\n",
    "**We should not use this feature importance method, as it leads to erroneous conclusions.**"
   ]
  },
  {
   "cell_type": "code",
   "execution_count": 123,
   "metadata": {},
   "outputs": [
    {
     "name": "stdout",
     "output_type": "stream",
     "text": [
      "                       Importance\n",
      "Feature                          \n",
      "action_type                0.0970\n",
      "combined_shot_type         0.0066\n",
      "seconds_remaining          0.0044\n",
      "shot_distance              0.0010\n",
      "game_Is_quarter_end        0.0008\n",
      "minutes_remaining          0.0004\n",
      "game_Is_year_start         0.0002\n",
      "shot_zone_basic            0.0002\n",
      "game_Is_year_end           0.0000\n",
      "team_name                  0.0000\n",
      "team_id                    0.0000\n",
      "game_Is_quarter_start     -0.0004\n",
      "game_Is_month_start       -0.0004\n",
      "game_Is_month_end         -0.0004\n",
      "shot_type                 -0.0006\n",
      "game_Dayofweek            -0.0012\n",
      "playoffs                  -0.0014\n",
      "shot_zone_range           -0.0016\n",
      "lon                       -0.0018\n",
      "game_Year                 -0.0020\n",
      "game_event_id             -0.0024\n",
      "matchup                   -0.0024\n",
      "game_Day                  -0.0028\n",
      "shot_zone_area            -0.0028\n",
      "game_Month                -0.0030\n",
      "lat                       -0.0050\n",
      "season                    -0.0050\n",
      "game_id                   -0.0052\n",
      "period                    -0.0052\n",
      "loc_x                     -0.0054\n",
      "game_Week                 -0.0058\n",
      "shot_id                   -0.0058\n",
      "loc_y                     -0.0064\n",
      "opponent                  -0.0066\n",
      "game_Elapsed              -0.0066\n",
      "game_Dayofyear            -0.0076\n"
     ]
    }
   ],
   "source": [
    "# using feature importance from rfpimp\n",
    "from rfpimp import *\n",
    "import rfpimp\n",
    "# print(rfpimp.__version__)\n",
    "print(importances(m, X_valid, y_valid))"
   ]
  },
  {
   "cell_type": "markdown",
   "metadata": {},
   "source": [
    "From the result using **rfpimp**, it is shown that the feature importance of **action_type** is 0.0970, and that of **combined_shot_type** is 0.0066."
   ]
  },
  {
   "cell_type": "markdown",
   "metadata": {},
   "source": [
    "# Part 2: Changing the order in action_type\n",
    "\n",
    "This part investigates the influence of changing the order in action_type. Specifically, the order will be randomly shuffled ten times, and the resulting log loss is recorded and compared."
   ]
  },
  {
   "cell_type": "code",
   "execution_count": 175,
   "metadata": {},
   "outputs": [
    {
     "name": "stdout",
     "output_type": "stream",
     "text": [
      "Index(['Running Slam Dunk Shot', 'Putback Layup Shot', 'Pullup Jump shot',\n",
      "       'Driving Finger Roll Layup Shot', 'Tip Layup Shot', 'Running Jump Shot',\n",
      "       'Running Finger Roll Layup Shot', 'Reverse Slam Dunk Shot',\n",
      "       'Turnaround Hook Shot', 'Driving Floating Bank Jump Shot',\n",
      "       'Turnaround Finger Roll Shot', 'Tip Shot', 'Hook Shot',\n",
      "       'Running Finger Roll Shot', 'Driving Finger Roll Shot',\n",
      "       'Driving Reverse Layup Shot', 'Driving Bank shot', 'Running Layup Shot',\n",
      "       'Follow Up Dunk Shot', 'Driving Hook Shot', 'Driving Jump shot',\n",
      "       'Alley Oop Dunk Shot', 'Layup Shot', 'Finger Roll Shot',\n",
      "       'Pullup Bank shot', 'Running Bank shot', 'Putback Slam Dunk Shot',\n",
      "       'Slam Dunk Shot', 'Jump Hook Shot', 'Step Back Jump shot',\n",
      "       'Running Pull-Up Jump Shot', 'Putback Dunk Shot',\n",
      "       'Driving Floating Jump Shot', 'Jump Shot', 'Turnaround Jump Shot',\n",
      "       'Jump Bank Shot', 'Hook Bank Shot', 'Fadeaway Jump Shot',\n",
      "       'Turnaround Fadeaway shot', 'Reverse Dunk Shot', 'Cutting Layup Shot',\n",
      "       'Driving Dunk Shot', 'Running Dunk Shot', 'Floating Jump shot',\n",
      "       'Running Hook Shot', 'Finger Roll Layup Shot', 'Alley Oop Layup shot',\n",
      "       'Driving Layup Shot', 'Turnaround Bank shot', 'Dunk Shot',\n",
      "       'Reverse Layup Shot', 'Fadeaway Bank shot',\n",
      "       'Running Reverse Layup Shot', 'Driving Slam Dunk Shot',\n",
      "       'Running Tip Shot'],\n",
      "      dtype='object')\n",
      "Index(['Driving Floating Bank Jump Shot', 'Running Jump Shot',\n",
      "       'Driving Finger Roll Layup Shot', 'Step Back Jump shot',\n",
      "       'Driving Jump shot', 'Driving Finger Roll Shot', 'Putback Dunk Shot',\n",
      "       'Hook Bank Shot', 'Running Finger Roll Layup Shot',\n",
      "       'Driving Layup Shot', 'Driving Slam Dunk Shot',\n",
      "       'Finger Roll Layup Shot', 'Tip Shot', 'Fadeaway Bank shot',\n",
      "       'Pullup Jump shot', 'Running Slam Dunk Shot', 'Reverse Layup Shot',\n",
      "       'Running Dunk Shot', 'Running Tip Shot', 'Driving Dunk Shot',\n",
      "       'Alley Oop Layup shot', 'Driving Hook Shot', 'Jump Shot',\n",
      "       'Running Finger Roll Shot', 'Turnaround Hook Shot', 'Pullup Bank shot',\n",
      "       'Jump Bank Shot', 'Alley Oop Dunk Shot', 'Putback Layup Shot',\n",
      "       'Running Hook Shot', 'Turnaround Finger Roll Shot',\n",
      "       'Turnaround Fadeaway shot', 'Follow Up Dunk Shot', 'Slam Dunk Shot',\n",
      "       'Hook Shot', 'Driving Reverse Layup Shot', 'Dunk Shot', 'Layup Shot',\n",
      "       'Fadeaway Jump Shot', 'Running Pull-Up Jump Shot',\n",
      "       'Turnaround Jump Shot', 'Floating Jump shot', 'Running Layup Shot',\n",
      "       'Finger Roll Shot', 'Reverse Dunk Shot', 'Jump Hook Shot',\n",
      "       'Running Reverse Layup Shot', 'Running Bank shot',\n",
      "       'Putback Slam Dunk Shot', 'Tip Layup Shot', 'Turnaround Bank shot',\n",
      "       'Driving Floating Jump Shot', 'Cutting Layup Shot',\n",
      "       'Reverse Slam Dunk Shot', 'Driving Bank shot'],\n",
      "      dtype='object')\n",
      "Index(['Running Finger Roll Layup Shot', 'Driving Hook Shot',\n",
      "       'Running Tip Shot', 'Driving Dunk Shot', 'Hook Bank Shot',\n",
      "       'Running Reverse Layup Shot', 'Hook Shot', 'Reverse Dunk Shot',\n",
      "       'Turnaround Hook Shot', 'Jump Shot', 'Turnaround Bank shot', 'Tip Shot',\n",
      "       'Dunk Shot', 'Reverse Layup Shot', 'Alley Oop Dunk Shot',\n",
      "       'Running Hook Shot', 'Finger Roll Shot', 'Jump Bank Shot',\n",
      "       'Step Back Jump shot', 'Driving Floating Bank Jump Shot',\n",
      "       'Putback Dunk Shot', 'Cutting Layup Shot', 'Slam Dunk Shot',\n",
      "       'Turnaround Fadeaway shot', 'Jump Hook Shot', 'Running Jump Shot',\n",
      "       'Turnaround Jump Shot', 'Driving Layup Shot', 'Floating Jump shot',\n",
      "       'Follow Up Dunk Shot', 'Driving Jump shot', 'Running Dunk Shot',\n",
      "       'Putback Slam Dunk Shot', 'Finger Roll Layup Shot',\n",
      "       'Putback Layup Shot', 'Turnaround Finger Roll Shot',\n",
      "       'Fadeaway Bank shot', 'Driving Bank shot', 'Running Pull-Up Jump Shot',\n",
      "       'Driving Finger Roll Layup Shot', 'Driving Reverse Layup Shot',\n",
      "       'Alley Oop Layup shot', 'Driving Slam Dunk Shot',\n",
      "       'Driving Finger Roll Shot', 'Pullup Bank shot', 'Running Layup Shot',\n",
      "       'Fadeaway Jump Shot', 'Tip Layup Shot', 'Layup Shot',\n",
      "       'Reverse Slam Dunk Shot', 'Running Finger Roll Shot',\n",
      "       'Driving Floating Jump Shot', 'Running Slam Dunk Shot',\n",
      "       'Running Bank shot', 'Pullup Jump shot'],\n",
      "      dtype='object')\n",
      "Index(['Cutting Layup Shot', 'Pullup Bank shot', 'Turnaround Bank shot',\n",
      "       'Finger Roll Shot', 'Pullup Jump shot', 'Running Slam Dunk Shot',\n",
      "       'Jump Shot', 'Turnaround Jump Shot', 'Alley Oop Dunk Shot',\n",
      "       'Floating Jump shot', 'Turnaround Hook Shot', 'Layup Shot',\n",
      "       'Finger Roll Layup Shot', 'Driving Floating Bank Jump Shot',\n",
      "       'Step Back Jump shot', 'Turnaround Finger Roll Shot',\n",
      "       'Driving Hook Shot', 'Jump Hook Shot', 'Running Bank shot',\n",
      "       'Running Hook Shot', 'Tip Layup Shot', 'Running Layup Shot',\n",
      "       'Running Tip Shot', 'Dunk Shot', 'Fadeaway Jump Shot',\n",
      "       'Reverse Layup Shot', 'Putback Slam Dunk Shot', 'Driving Jump shot',\n",
      "       'Putback Dunk Shot', 'Reverse Dunk Shot', 'Hook Shot',\n",
      "       'Driving Finger Roll Shot', 'Putback Layup Shot', 'Running Jump Shot',\n",
      "       'Running Finger Roll Shot', 'Driving Bank shot', 'Jump Bank Shot',\n",
      "       'Driving Finger Roll Layup Shot', 'Follow Up Dunk Shot',\n",
      "       'Slam Dunk Shot', 'Running Pull-Up Jump Shot',\n",
      "       'Running Finger Roll Layup Shot', 'Turnaround Fadeaway shot',\n",
      "       'Driving Reverse Layup Shot', 'Driving Slam Dunk Shot',\n",
      "       'Hook Bank Shot', 'Reverse Slam Dunk Shot', 'Tip Shot',\n",
      "       'Driving Layup Shot', 'Alley Oop Layup shot',\n",
      "       'Running Reverse Layup Shot', 'Driving Floating Jump Shot',\n",
      "       'Fadeaway Bank shot', 'Running Dunk Shot', 'Driving Dunk Shot'],\n",
      "      dtype='object')\n",
      "Index(['Turnaround Finger Roll Shot', 'Running Pull-Up Jump Shot',\n",
      "       'Step Back Jump shot', 'Running Dunk Shot', 'Cutting Layup Shot',\n",
      "       'Hook Shot', 'Driving Jump shot', 'Running Finger Roll Layup Shot',\n",
      "       'Floating Jump shot', 'Driving Dunk Shot', 'Running Layup Shot',\n",
      "       'Turnaround Jump Shot', 'Tip Layup Shot', 'Follow Up Dunk Shot',\n",
      "       'Driving Bank shot', 'Driving Finger Roll Layup Shot', 'Jump Hook Shot',\n",
      "       'Jump Bank Shot', 'Running Finger Roll Shot', 'Putback Layup Shot',\n",
      "       'Running Bank shot', 'Slam Dunk Shot', 'Layup Shot', 'Hook Bank Shot',\n",
      "       'Driving Hook Shot', 'Driving Finger Roll Shot', 'Finger Roll Shot',\n",
      "       'Jump Shot', 'Tip Shot', 'Driving Layup Shot', 'Pullup Bank shot',\n",
      "       'Running Tip Shot', 'Alley Oop Dunk Shot', 'Reverse Slam Dunk Shot',\n",
      "       'Driving Reverse Layup Shot', 'Fadeaway Jump Shot', 'Running Jump Shot',\n",
      "       'Putback Dunk Shot', 'Driving Slam Dunk Shot', 'Alley Oop Layup shot',\n",
      "       'Running Reverse Layup Shot', 'Fadeaway Bank shot',\n",
      "       'Turnaround Fadeaway shot', 'Finger Roll Layup Shot',\n",
      "       'Reverse Layup Shot', 'Driving Floating Bank Jump Shot',\n",
      "       'Running Slam Dunk Shot', 'Dunk Shot', 'Turnaround Bank shot',\n",
      "       'Driving Floating Jump Shot', 'Running Hook Shot', 'Pullup Jump shot',\n",
      "       'Reverse Dunk Shot', 'Putback Slam Dunk Shot', 'Turnaround Hook Shot'],\n",
      "      dtype='object')\n",
      "Index(['Jump Bank Shot', 'Hook Bank Shot', 'Driving Finger Roll Shot',\n",
      "       'Alley Oop Layup shot', 'Driving Finger Roll Layup Shot',\n",
      "       'Putback Dunk Shot', 'Fadeaway Jump Shot', 'Running Hook Shot',\n",
      "       'Floating Jump shot', 'Finger Roll Shot', 'Running Jump Shot',\n",
      "       'Fadeaway Bank shot', 'Running Dunk Shot', 'Pullup Jump shot',\n",
      "       'Driving Layup Shot', 'Turnaround Finger Roll Shot',\n",
      "       'Running Finger Roll Layup Shot', 'Running Reverse Layup Shot',\n",
      "       'Putback Slam Dunk Shot', 'Step Back Jump shot', 'Reverse Layup Shot',\n",
      "       'Driving Dunk Shot', 'Putback Layup Shot', 'Pullup Bank shot',\n",
      "       'Hook Shot', 'Driving Bank shot', 'Tip Shot',\n",
      "       'Driving Reverse Layup Shot', 'Turnaround Jump Shot', 'Layup Shot',\n",
      "       'Slam Dunk Shot', 'Running Finger Roll Shot',\n",
      "       'Running Pull-Up Jump Shot', 'Running Tip Shot', 'Reverse Dunk Shot',\n",
      "       'Tip Layup Shot', 'Jump Shot', 'Running Slam Dunk Shot',\n",
      "       'Reverse Slam Dunk Shot', 'Turnaround Hook Shot', 'Running Bank shot',\n",
      "       'Cutting Layup Shot', 'Running Layup Shot', 'Alley Oop Dunk Shot',\n",
      "       'Driving Floating Bank Jump Shot', 'Driving Hook Shot', 'Dunk Shot',\n",
      "       'Finger Roll Layup Shot', 'Driving Floating Jump Shot',\n",
      "       'Turnaround Bank shot', 'Jump Hook Shot', 'Turnaround Fadeaway shot',\n",
      "       'Driving Slam Dunk Shot', 'Follow Up Dunk Shot', 'Driving Jump shot'],\n",
      "      dtype='object')\n"
     ]
    },
    {
     "name": "stdout",
     "output_type": "stream",
     "text": [
      "Index(['Fadeaway Jump Shot', 'Running Tip Shot', 'Driving Slam Dunk Shot',\n",
      "       'Driving Layup Shot', 'Running Layup Shot',\n",
      "       'Running Reverse Layup Shot', 'Floating Jump shot', 'Driving Bank shot',\n",
      "       'Follow Up Dunk Shot', 'Finger Roll Shot', 'Step Back Jump shot',\n",
      "       'Running Hook Shot', 'Running Dunk Shot', 'Fadeaway Bank shot',\n",
      "       'Pullup Bank shot', 'Turnaround Fadeaway shot',\n",
      "       'Running Finger Roll Layup Shot', 'Turnaround Hook Shot',\n",
      "       'Alley Oop Layup shot', 'Dunk Shot', 'Jump Bank Shot', 'Hook Shot',\n",
      "       'Driving Floating Bank Jump Shot', 'Reverse Slam Dunk Shot',\n",
      "       'Layup Shot', 'Running Finger Roll Shot', 'Driving Reverse Layup Shot',\n",
      "       'Putback Dunk Shot', 'Hook Bank Shot', 'Slam Dunk Shot',\n",
      "       'Putback Slam Dunk Shot', 'Finger Roll Layup Shot',\n",
      "       'Driving Finger Roll Shot', 'Driving Hook Shot', 'Reverse Layup Shot',\n",
      "       'Cutting Layup Shot', 'Running Jump Shot', 'Driving Floating Jump Shot',\n",
      "       'Pullup Jump shot', 'Turnaround Finger Roll Shot', 'Putback Layup Shot',\n",
      "       'Driving Finger Roll Layup Shot', 'Jump Shot', 'Tip Layup Shot',\n",
      "       'Reverse Dunk Shot', 'Turnaround Jump Shot', 'Jump Hook Shot',\n",
      "       'Alley Oop Dunk Shot', 'Running Bank shot', 'Running Slam Dunk Shot',\n",
      "       'Driving Dunk Shot', 'Running Pull-Up Jump Shot', 'Driving Jump shot',\n",
      "       'Turnaround Bank shot', 'Tip Shot'],\n",
      "      dtype='object')\n",
      "Index(['Running Finger Roll Shot', 'Driving Hook Shot', 'Pullup Bank shot',\n",
      "       'Running Bank shot', 'Layup Shot', 'Slam Dunk Shot',\n",
      "       'Running Finger Roll Layup Shot', 'Driving Floating Bank Jump Shot',\n",
      "       'Tip Shot', 'Reverse Dunk Shot', 'Hook Bank Shot', 'Jump Shot',\n",
      "       'Pullup Jump shot', 'Jump Bank Shot', 'Reverse Layup Shot',\n",
      "       'Finger Roll Layup Shot', 'Reverse Slam Dunk Shot',\n",
      "       'Running Pull-Up Jump Shot', 'Driving Bank shot', 'Putback Layup Shot',\n",
      "       'Turnaround Hook Shot', 'Turnaround Bank shot', 'Running Jump Shot',\n",
      "       'Driving Jump shot', 'Jump Hook Shot', 'Alley Oop Layup shot',\n",
      "       'Running Slam Dunk Shot', 'Driving Finger Roll Shot',\n",
      "       'Running Dunk Shot', 'Putback Slam Dunk Shot', 'Cutting Layup Shot',\n",
      "       'Fadeaway Jump Shot', 'Alley Oop Dunk Shot', 'Floating Jump shot',\n",
      "       'Tip Layup Shot', 'Running Reverse Layup Shot', 'Running Layup Shot',\n",
      "       'Step Back Jump shot', 'Turnaround Fadeaway shot', 'Putback Dunk Shot',\n",
      "       'Running Tip Shot', 'Driving Finger Roll Layup Shot',\n",
      "       'Driving Dunk Shot', 'Finger Roll Shot', 'Driving Floating Jump Shot',\n",
      "       'Driving Reverse Layup Shot', 'Follow Up Dunk Shot', 'Hook Shot',\n",
      "       'Dunk Shot', 'Running Hook Shot', 'Driving Layup Shot',\n",
      "       'Fadeaway Bank shot', 'Turnaround Jump Shot',\n",
      "       'Turnaround Finger Roll Shot', 'Driving Slam Dunk Shot'],\n",
      "      dtype='object')\n",
      "Index(['Finger Roll Layup Shot', 'Driving Floating Bank Jump Shot',\n",
      "       'Running Hook Shot', 'Reverse Dunk Shot', 'Step Back Jump shot',\n",
      "       'Fadeaway Jump Shot', 'Running Finger Roll Layup Shot',\n",
      "       'Running Dunk Shot', 'Turnaround Jump Shot', 'Driving Bank shot',\n",
      "       'Running Reverse Layup Shot', 'Hook Shot', 'Jump Hook Shot',\n",
      "       'Cutting Layup Shot', 'Putback Dunk Shot', 'Running Finger Roll Shot',\n",
      "       'Reverse Layup Shot', 'Driving Slam Dunk Shot', 'Dunk Shot',\n",
      "       'Tip Layup Shot', 'Jump Bank Shot', 'Driving Jump shot',\n",
      "       'Alley Oop Dunk Shot', 'Finger Roll Shot', 'Floating Jump shot',\n",
      "       'Running Jump Shot', 'Putback Layup Shot', 'Reverse Slam Dunk Shot',\n",
      "       'Driving Dunk Shot', 'Running Layup Shot', 'Driving Finger Roll Shot',\n",
      "       'Running Tip Shot', 'Turnaround Finger Roll Shot',\n",
      "       'Turnaround Hook Shot', 'Turnaround Fadeaway shot',\n",
      "       'Follow Up Dunk Shot', 'Layup Shot', 'Pullup Bank shot',\n",
      "       'Slam Dunk Shot', 'Running Bank shot', 'Turnaround Bank shot',\n",
      "       'Jump Shot', 'Driving Hook Shot', 'Tip Shot', 'Alley Oop Layup shot',\n",
      "       'Running Slam Dunk Shot', 'Pullup Jump shot', 'Driving Layup Shot',\n",
      "       'Driving Floating Jump Shot', 'Driving Finger Roll Layup Shot',\n",
      "       'Putback Slam Dunk Shot', 'Hook Bank Shot',\n",
      "       'Driving Reverse Layup Shot', 'Running Pull-Up Jump Shot',\n",
      "       'Fadeaway Bank shot'],\n",
      "      dtype='object')\n",
      "Index(['Running Layup Shot', 'Floating Jump shot', 'Running Jump Shot',\n",
      "       'Turnaround Jump Shot', 'Running Hook Shot', 'Follow Up Dunk Shot',\n",
      "       'Driving Slam Dunk Shot', 'Finger Roll Layup Shot',\n",
      "       'Running Finger Roll Layup Shot', 'Alley Oop Layup shot',\n",
      "       'Running Bank shot', 'Driving Finger Roll Shot',\n",
      "       'Putback Slam Dunk Shot', 'Pullup Bank shot',\n",
      "       'Driving Floating Bank Jump Shot', 'Running Pull-Up Jump Shot',\n",
      "       'Driving Dunk Shot', 'Running Tip Shot', 'Fadeaway Bank shot',\n",
      "       'Turnaround Finger Roll Shot', 'Hook Bank Shot', 'Dunk Shot',\n",
      "       'Turnaround Fadeaway shot', 'Driving Reverse Layup Shot',\n",
      "       'Running Slam Dunk Shot', 'Driving Bank shot',\n",
      "       'Driving Finger Roll Layup Shot', 'Putback Dunk Shot', 'Jump Shot',\n",
      "       'Driving Floating Jump Shot', 'Jump Bank Shot',\n",
      "       'Reverse Slam Dunk Shot', 'Jump Hook Shot', 'Turnaround Bank shot',\n",
      "       'Driving Layup Shot', 'Tip Layup Shot', 'Driving Jump shot',\n",
      "       'Reverse Layup Shot', 'Alley Oop Dunk Shot', 'Layup Shot',\n",
      "       'Cutting Layup Shot', 'Turnaround Hook Shot', 'Tip Shot',\n",
      "       'Running Dunk Shot', 'Running Reverse Layup Shot', 'Fadeaway Jump Shot',\n",
      "       'Slam Dunk Shot', 'Putback Layup Shot', 'Driving Hook Shot',\n",
      "       'Pullup Jump shot', 'Finger Roll Shot', 'Reverse Dunk Shot',\n",
      "       'Running Finger Roll Shot', 'Step Back Jump shot', 'Hook Shot'],\n",
      "      dtype='object')\n",
      "[0.6242262771567423, 0.6228557631030516, 0.6210630531779839, 0.6237990566040533, 0.6264163675812117, 0.6207728559849265, 0.6235778665745008, 0.6198497374388597, 0.6250839913614713, 0.6240644304218844]\n"
     ]
    }
   ],
   "source": [
    "import random\n",
    "from sklearn import utils\n",
    "list_mean_log_loss = []\n",
    "list_cat_action_type = train.action_type.cat.categories\n",
    "for i in range(10):\n",
    "    # change the order in action_type using random shuffle\n",
    "    train.action_type.cat.set_categories(utils.shuffle(list_cat_action_type,random_state=i), ordered=True, inplace=True)\n",
    "    print(train.action_type.cat.categories)\n",
    "#     # apply the changes to the test\n",
    "#     apply_cats(test, train)\n",
    "    # split the X and y\n",
    "    df, y, nas = proc_df(train, y_fld='shot_made_flag')\n",
    "    # split the train and valid data\n",
    "    X_train, X_valid, y_train, y_valid = train_test_split(df, y, test_size = 5000, random_state = 42)\n",
    "    # rerun the random forest mode\n",
    "    num_estimator = 100\n",
    "    vec_log_loss = []\n",
    "    for i in range(10):\n",
    "        m = RandomForestClassifier(n_jobs=-1, n_estimators=num_estimator)\n",
    "        m.fit(X_train, y_train)\n",
    "        # validation error\n",
    "        vec_log_loss.append(metrics.log_loss(y_valid,m.predict_proba(X_valid)))\n",
    "    \n",
    "    # record the log loss\n",
    "    list_mean_log_loss.append(np.mean(vec_log_loss))\n",
    "print(list_mean_log_loss)"
   ]
  },
  {
   "cell_type": "markdown",
   "metadata": {},
   "source": [
    "The log loss associated with the shuffled categories of action_type is very similar to that of the lexical order. This means that the order of a categorical variable is not relevant in this classification task.\n",
    "\n",
    "The order being irrelevant to the classification accuracy means that the **action_type** variable might be represented as an unordered categorical variable (aka a nominal variable). The most appropriate way to model a nominal variable is one-hot encoding, which is introduced in Part 3."
   ]
  },
  {
   "cell_type": "markdown",
   "metadata": {},
   "source": [
    "# Part 3: One-hot Encoding (using get_dummies)"
   ]
  },
  {
   "cell_type": "code",
   "execution_count": 125,
   "metadata": {},
   "outputs": [
    {
     "name": "stdout",
     "output_type": "stream",
     "text": [
      "(25697, 86)\n"
     ]
    }
   ],
   "source": [
    "# os.chdir(\"/home/rk9cx/Kaggle/Kobe Shot Selection/\")\n",
    "df = pd.read_csv(\"data.csv\", index_col = False, low_memory=False, parse_dates=[\"game_date\"])\n",
    "df = pd.get_dummies(df, columns=['action_type','combined_shot_type'])\n",
    "test = df[df['shot_made_flag'].isna()]\n",
    "train = df[~df['shot_made_flag'].isna()]\n",
    "print(train.shape)"
   ]
  },
  {
   "cell_type": "code",
   "execution_count": 126,
   "metadata": {},
   "outputs": [
    {
     "name": "stderr",
     "output_type": "stream",
     "text": [
      "C:\\Users\\HuanfaChen\\Anaconda3\\envs\\fastai07_cpu\\lib\\site-packages\\fastai\\structured.py:114: SettingWithCopyWarning: \n",
      "A value is trying to be set on a copy of a slice from a DataFrame.\n",
      "Try using .loc[row_indexer,col_indexer] = value instead\n",
      "\n",
      "See the caveats in the documentation: https://pandas.pydata.org/pandas-docs/stable/user_guide/indexing.html#returning-a-view-versus-a-copy\n",
      "  for n in attr: df[targ_pre + n] = getattr(fld.dt, n.lower())\n",
      "C:\\Users\\HuanfaChen\\Anaconda3\\envs\\fastai07_cpu\\lib\\site-packages\\fastai\\structured.py:115: SettingWithCopyWarning: \n",
      "A value is trying to be set on a copy of a slice from a DataFrame.\n",
      "Try using .loc[row_indexer,col_indexer] = value instead\n",
      "\n",
      "See the caveats in the documentation: https://pandas.pydata.org/pandas-docs/stable/user_guide/indexing.html#returning-a-view-versus-a-copy\n",
      "  df[targ_pre + 'Elapsed'] = fld.astype(np.int64) // 10 ** 9\n",
      "C:\\Users\\HuanfaChen\\Anaconda3\\envs\\fastai07_cpu\\lib\\site-packages\\pandas\\core\\frame.py:3997: SettingWithCopyWarning: \n",
      "A value is trying to be set on a copy of a slice from a DataFrame\n",
      "\n",
      "See the caveats in the documentation: https://pandas.pydata.org/pandas-docs/stable/user_guide/indexing.html#returning-a-view-versus-a-copy\n",
      "  errors=errors,\n"
     ]
    }
   ],
   "source": [
    "#converting date into different fatures\n",
    "add_datepart(train, 'game_date')\n",
    "add_datepart(test, 'game_date')"
   ]
  },
  {
   "cell_type": "code",
   "execution_count": 129,
   "metadata": {},
   "outputs": [
    {
     "data": {
      "text/plain": [
       "(25697, 98)"
      ]
     },
     "execution_count": 129,
     "metadata": {},
     "output_type": "execute_result"
    }
   ],
   "source": [
    "train.shape"
   ]
  },
  {
   "cell_type": "code",
   "execution_count": 130,
   "metadata": {},
   "outputs": [
    {
     "name": "stderr",
     "output_type": "stream",
     "text": [
      "C:\\Users\\HuanfaChen\\Anaconda3\\envs\\fastai07_cpu\\lib\\site-packages\\fastai\\structured.py:152: SettingWithCopyWarning: \n",
      "A value is trying to be set on a copy of a slice from a DataFrame.\n",
      "Try using .loc[row_indexer,col_indexer] = value instead\n",
      "\n",
      "See the caveats in the documentation: https://pandas.pydata.org/pandas-docs/stable/user_guide/indexing.html#returning-a-view-versus-a-copy\n",
      "  if is_string_dtype(c): df[n] = c.astype('category').cat.as_ordered()\n",
      "C:\\Users\\HuanfaChen\\Anaconda3\\envs\\fastai07_cpu\\lib\\site-packages\\fastai\\structured.py:200: SettingWithCopyWarning: \n",
      "A value is trying to be set on a copy of a slice from a DataFrame.\n",
      "Try using .loc[row_indexer,col_indexer] = value instead\n",
      "\n",
      "See the caveats in the documentation: https://pandas.pydata.org/pandas-docs/stable/user_guide/indexing.html#returning-a-view-versus-a-copy\n",
      "  df[n] = pd.Categorical(c, categories=trn[n].cat.categories, ordered=True)\n"
     ]
    }
   ],
   "source": [
    "#converting categorical variables into label coding\n",
    "train_cats(train)\n",
    "apply_cats(test, train)"
   ]
  },
  {
   "cell_type": "code",
   "execution_count": 131,
   "metadata": {},
   "outputs": [
    {
     "data": {
      "text/plain": [
       "(25697, 98)"
      ]
     },
     "execution_count": 131,
     "metadata": {},
     "output_type": "execute_result"
    }
   ],
   "source": [
    "train.shape"
   ]
  },
  {
   "cell_type": "code",
   "execution_count": 132,
   "metadata": {},
   "outputs": [],
   "source": [
    "df, y, nas = proc_df(train, 'shot_made_flag')"
   ]
  },
  {
   "cell_type": "code",
   "execution_count": 133,
   "metadata": {},
   "outputs": [],
   "source": [
    "# train-valid split using sklearn\n",
    "from sklearn.model_selection import train_test_split\n",
    "# test_size: If int, represents the absolute number of train samples\n",
    "X_train, X_valid, y_train, y_valid = train_test_split(df, y, test_size = 5000, random_state = 42)"
   ]
  },
  {
   "cell_type": "code",
   "execution_count": 177,
   "metadata": {},
   "outputs": [
    {
     "name": "stderr",
     "output_type": "stream",
     "text": [
      "UsageError: Line magic function `%%time` not found.\n"
     ]
    }
   ],
   "source": [
    "# Is the RandomForestClassifier stable on this dataset?\n",
    "# Run the RandomForestClassifier for ten times, and print the mean and standard deviation of log_loss\n",
    "# n_estimator = 100\n",
    "num_estimator = 100\n",
    "vec_log_loss = []\n",
    "\n",
    "for i in range(10):\n",
    "    m = RandomForestClassifier(n_jobs=-1, n_estimators=num_estimator)\n",
    "    m.fit(X_train, y_train)\n",
    "    # validation error\n",
    "    vec_log_loss.append(metrics.log_loss(y_valid,m.predict_proba(X_valid)))\n",
    "\n",
    "print(\"10-run RandomForest Classifier using cross-entropy\")\n",
    "print(\"Mean of log_loss\", np.mean(vec_log_loss))\n",
    "print(\"Std_dev of log_loss\", np.std(vec_log_loss))"
   ]
  },
  {
   "cell_type": "markdown",
   "metadata": {},
   "source": [
    "## Feature importance"
   ]
  },
  {
   "cell_type": "code",
   "execution_count": 136,
   "metadata": {},
   "outputs": [
    {
     "name": "stdout",
     "output_type": "stream",
     "text": [
      "                               Importance\n",
      "Feature                                  \n",
      "action_type_Jump Shot              0.0718\n",
      "action_type_Layup Shot             0.0190\n",
      "seconds_remaining                  0.0040\n",
      "combined_shot_type_Jump Shot       0.0040\n",
      "action_type_Running Jump Shot      0.0030\n",
      "...                                   ...\n",
      "opponent                          -0.0058\n",
      "game_id                           -0.0062\n",
      "game_Elapsed                      -0.0064\n",
      "matchup                           -0.0066\n",
      "game_Day                          -0.0094\n",
      "\n",
      "[97 rows x 1 columns]\n"
     ]
    }
   ],
   "source": [
    "# using feature importance from rfpimp\n",
    "# install the rfpimp in Anaconda: conda install rfpimp\n",
    "# compute the permutation importance of each individual feature. \n",
    "from rfpimp import *\n",
    "import rfpimp\n",
    "# print(rfpimp.__version__)\n",
    "importance_single_feature = importances(m, X_valid, y_valid)\n",
    "print(importance_single_feature)"
   ]
  },
  {
   "cell_type": "code",
   "execution_count": 155,
   "metadata": {},
   "outputs": [
    {
     "name": "stdout",
     "output_type": "stream",
     "text": [
      "Importance of features deriving from action_type variable\n",
      "                                                    Importance\n",
      "Feature                                                       \n",
      "action_type_Alley Oop Dunk Shot\\naction_type_Al...      0.1168\n",
      "combined_shot_type_Bank Shot\\ncombined_shot_typ...      0.0116\n",
      "game_Day\\ngame_id\\nloc_y\\ngame_Month\\ngame_Is_m...      0.0066\n"
     ]
    }
   ],
   "source": [
    "# importance of the feature group of action_type* and combined_shot_type*\n",
    "# in the importances function, the **features** parameter is a list containing the feature groups whose importance is to be investigated.\n",
    "# By default, it will compute the permutation importance of a group consisting of the features not in any elemenet of **features** list.\n",
    "\n",
    "list_feature = list(X_valid.columns)\n",
    "print(\"Importance of features deriving from action_type variable\")\n",
    "print(importances(m, X_valid, y_valid, features = [[k for k in list_feature if 'action_type' in k],[k for k in list_feature if 'combined_shot_type' in k]]))"
   ]
  },
  {
   "cell_type": "markdown",
   "metadata": {},
   "source": [
    "It is reported that the importance of the **action_type** group is 0.1168, and that of **combined_shot_type** is 0.0116. Moreover, by comparing them to the importance in the long list, it is seen than each of these two groups is more important than any individual variable not in these groups. \n",
    "\n",
    "This is consistent with our knowledge of this dataset that the two variables are more important than the others in this classification task."
   ]
  },
  {
   "cell_type": "markdown",
   "metadata": {},
   "source": [
    "# TLDR\n",
    "\n",
    "1. In a random forest, **one-hot encoding** is well-suited for representing a categorical variable when you don't have knowledge of the order in the variable. One-hot encoding doesn't make the model ineffiecient, nor does it obsecure the feature importance order, on a condition that the correct feature importance method is used.\n",
    "2. Theoretically, for a nominal variable associated with unordered categories, one-hot encoding is better than label encoding, as label encoding requires a specific order between the categories. \n",
    "3. The **RandomForestClassifier.feature_importances_** function from **sklearn** is problematic. Always use the **importances** function from **rfpimp** instead. This method is grounded on the widely accepted permutation method, which was proposed for random forest."
   ]
  }
 ],
 "metadata": {
  "kernelspec": {
   "display_name": "Python [conda env:fastai07_cpu]",
   "language": "python",
   "name": "conda-env-fastai07_cpu-py"
  },
  "language_info": {
   "codemirror_mode": {
    "name": "ipython",
    "version": 3
   },
   "file_extension": ".py",
   "mimetype": "text/x-python",
   "name": "python",
   "nbconvert_exporter": "python",
   "pygments_lexer": "ipython3",
   "version": "3.6.10"
  }
 },
 "nbformat": 4,
 "nbformat_minor": 2
}
